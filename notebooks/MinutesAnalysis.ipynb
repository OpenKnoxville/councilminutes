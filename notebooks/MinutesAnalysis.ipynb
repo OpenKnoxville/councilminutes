{
 "cells": [
  {
   "cell_type": "code",
   "execution_count": 1,
   "metadata": {},
   "outputs": [
    {
     "data": {
      "text/plain": [
       "'knoxcity.settings'"
      ]
     },
     "execution_count": 1,
     "metadata": {},
     "output_type": "execute_result"
    }
   ],
   "source": [
    "import os.path as op\n",
    "home = op.expanduser(\"~\")\n",
    "MYAPPS = op.join(home, \"Workspace\", \"knoxcouncil\")\n",
    "import os, sys\n",
    "sys.path.insert(0, MYAPPS)\n",
    "os.environ.setdefault(\"PYTHONPATH\", \"{0}\".format(MYAPPS))\n",
    "os.environ.setdefault(\"DJANGO_SETTINGS_MODULE\", \"knoxcity.settings\")"
   ]
  },
  {
   "cell_type": "code",
   "execution_count": 7,
   "metadata": {},
   "outputs": [
    {
     "name": "stdout",
     "output_type": "stream",
     "text": [
      "------------\n",
      " No. O-81-2012\n",
      "An Ordinance to approve and adopt the FY 2013-2018 Knoxville Capital Improvement Program, including the FY 2013 Capital Improvement Budget.  (File No. 4-A-12-OB)(Requested by Metropolitan Planning Commission)\n",
      "------------\n",
      "R-368-2013\n",
      "A Resolution authorizing the Vice Mayor on behalf of the City Council to apply for an H-1 Historic Overlay designation and any necessary rezoning applications for the parcel and improvements at 2110 Chapman Highway (which may further be identified as Parcel ID 109AK014), pursuant to Article IV, Section 5.1, H-1 Historic Overlay District.(Requested by Vice Mayor Pavlis)\n",
      "------------\n",
      "\n",
      "A Resolution to approve the sale of two (2) vacant city-owned parcels of surplus property to William Dunn for the sum of $1,500.00.(Requested by Department of Finance and Accountability)\n",
      "------------\n",
      "\n",
      "A Resolution approving an appeal by Frank Slagle of the Metropolitan Planning Commission's decision to approve a Use on Review for apartments in an RP-2 (Planned Residential) District, property located on the west side of Thunderhead Road, north of S. Northshore Drive, Flournoy Development, Applicant. (MPC Approved 10-4) (File No. 5-H-13-UR) (Second District)(Requested by Metropolitan Planning Commission)\n",
      "------------\n",
      "R-24-2012 \n",
      "A Resolution Authorizing the Mayor to Execute an Agreement with Monte Rex Hamilton and Pamela Roberts Hamilton to Permit an Encroachment into the Right-Of-Way of 535 Chippewa Circle, CLT No. 107MC003.(Requested by Department of Engineering) \n",
      "------------\n",
      "\n",
      "A Resolution approving an appeal by Carolyn Dougherty, Seven Springs Subdivision resident, of the Metropolitan Planning Commission's decision to approve Schaad Commercial Investments' request for a Use On Review for a commercial Dollar General Store in the RP-1 (Planned Residential) District, subject to ten conditions, property located on the south side of Amherst Road, west side of Piney Grove Church Road.  (MPC Approved 14-1) (File No. 10-C-14-UR) (Third District)(Requested by Metropolitan Planning Commission)\n",
      "------------\n",
      "(ID # 1237) \n",
      "a. A Resolution Approving an Appeal by Fountain City Community Awareness Network of the Board of Zoning Appeals' Decision Approving the Determination and Decision by the City Administration Officer that the Proposed Use is an Accessory Use and Further Appealing the Issuance of a Building Permit for a Crematory at a Funeral Home Located at 5301 Fountain Drive.  (BZA Denied 4-0) (File No. 1-C-12-VA) (Fourth District)(Requested by Metropolitan Planning Commission)  \n",
      "------------\n",
      " No. O-95-2014\n",
      "An Ordinance making and fixing the annual appropriations for the several departments, agencies, and funds of the City of Knoxville for the fiscal period beginning July 1, 2014 and ending June 30, 2015.(Requested by Department of Finance and Accountability)\n",
      "------------\n",
      " No. O-97-2014\n",
      "An Ordinance to amend Sections 2-450 and 2-459 of the Knoxville City Code to adjust the City of Knoxville's Classification and Compensation Plans for general government employees and uniformed members of the police and fire departments.(Requested by Civil Service)\n",
      "------------\n",
      " No. O-116-2014\n",
      "An Ordinance approving the request of Emerald Youth Foundation for a One Year Plan Amendment from Medium Density Residential to General Commercial, for property located on the northwest side of E. Emerald Avenue, northeast of N. Central Street.  (MPC Approved 11-1) (File No. 4-A-14-PA) (Fifth District)(Requested by Metropolitan Planning Commission)\n",
      "------------\n",
      " No. O-117-2014\n",
      "An Ordinance to rezone property located on the northwest side of E. Emerald Avenue, northeast of N. Central Street from R-1 (Low Density Residential)/ IH-1 (Infill Housing Overlay) District & R-2 (General Residential) / IH-1 (Infill Housing Overlay) District to C-3 (General Commercial)/ IH-1 (Infill Housing Overlay) District, subject to conditions, Emerald Youth Foundation, Applicant. (MPC approved 11-1) (MPC File No. 4-D-14-RZ) (Fifth District)(Requested by Metropolitan Planning Commission)\n"
     ]
    }
   ],
   "source": [
    "from citycouncil.models import Decision\n",
    "\n",
    "for r in Decision.objects.filter(nays__icontains=\"wallace\"):\n",
    "    print \"------------\"\n",
    "    print r.code\n",
    "    print r.text"
   ]
  },
  {
   "cell_type": "code",
   "execution_count": 10,
   "metadata": {},
   "outputs": [
    {
     "name": "stdout",
     "output_type": "stream",
     "text": [
      "Number of Saunders as mover 191\n",
      "Number of Wallace as mover 52\n"
     ]
    }
   ],
   "source": [
    "print \"Number of Saunders as mover\", len([x for x in Decision.objects.filter(mover__icontains=\"saunders\")])\n",
    "print \"Number of Wallace as mover\", len([x for x in Decision.objects.filter(mover__icontains=\"wallace\")])"
   ]
  },
  {
   "cell_type": "code",
   "execution_count": 18,
   "metadata": {},
   "outputs": [
    {
     "name": "stdout",
     "output_type": "stream",
     "text": [
      "Percent of Unanimous Decisions 93.1055900621\n"
     ]
    }
   ],
   "source": [
    "print \"Percent of Unanimous Decisions\", \\\n",
    "    float(len([x for x in Decision.objects.filter(result__icontains=\"unanimous\")])) / \\\n",
    "          (Decision.objects.count()) *100"
   ]
  },
  {
   "cell_type": "code",
   "execution_count": 19,
   "metadata": {},
   "outputs": [
    {
     "name": "stdout",
     "output_type": "stream",
     "text": [
      "----------\n",
      "R-339-2014\n",
      "A Resolution authorizing the Mayor to execute an agreement by which the City of Knoxville will lease the Carl Cowan Pool located inside the Dr. E.V. Davidson Recreation Center to the Emerald Youth Foundation for a term of one year.(Requested by Department of Parks and Recreation)\n",
      "----------\n",
      " No. O-116-2014\n",
      "An Ordinance approving the request of Emerald Youth Foundation for a One Year Plan Amendment from Medium Density Residential to General Commercial, for property located on the northwest side of E. Emerald Avenue, northeast of N. Central Street.  (MPC Approved 11-1) (File No. 4-A-14-PA) (Fifth District)(Requested by Metropolitan Planning Commission)\n",
      "----------\n",
      " No. O-117-2014\n",
      "An Ordinance to rezone property located on the northwest side of E. Emerald Avenue, northeast of N. Central Street from R-1 (Low Density Residential)/ IH-1 (Infill Housing Overlay) District & R-2 (General Residential) / IH-1 (Infill Housing Overlay) District to C-3 (General Commercial)/ IH-1 (Infill Housing Overlay) District, subject to conditions, Emerald Youth Foundation, Applicant. (MPC approved 11-1) (MPC File No. 4-D-14-RZ) (Fifth District)(Requested by Metropolitan Planning Commission)\n"
     ]
    }
   ],
   "source": [
    "for r in Decision.objects.filter(text__icontains=\"emerald\"):\n",
    "    print \"----------\"\n",
    "    print r.code\n",
    "    print r.text\n",
    "    "
   ]
  },
  {
   "cell_type": "code",
   "execution_count": 20,
   "metadata": {},
   "outputs": [
    {
     "name": "stdout",
     "output_type": "stream",
     "text": [
      "Number of requests from MPC 262\n"
     ]
    }
   ],
   "source": [
    "print \"Number of requests from MPC:\", Decision.objects.filter(text__icontains=\"Requested by Metropolitan Planning Commission\").count()"
   ]
  }
 ],
 "metadata": {
  "kernelspec": {
   "display_name": "Django Shell-Plus",
   "language": "python",
   "name": "django_extensions"
  },
  "language_info": {
   "codemirror_mode": {
    "name": "ipython",
    "version": 2
   },
   "file_extension": ".py",
   "mimetype": "text/x-python",
   "name": "python",
   "nbconvert_exporter": "python",
   "pygments_lexer": "ipython2",
   "version": "2.7.11"
  }
 },
 "nbformat": 4,
 "nbformat_minor": 2
}
