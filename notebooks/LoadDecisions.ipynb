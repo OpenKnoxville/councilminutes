{
 "cells": [
  {
   "cell_type": "code",
   "execution_count": 1,
   "metadata": {},
   "outputs": [
    {
     "data": {
      "text/plain": [
       "'knoxcity.settings'"
      ]
     },
     "execution_count": 1,
     "metadata": {},
     "output_type": "execute_result"
    }
   ],
   "source": [
    "import os.path as op\n",
    "home = op.expanduser(\"~\")\n",
    "MYAPPS = op.join(home, \"Workspace\", \"knoxcouncil\")\n",
    "import os, sys\n",
    "sys.path.insert(0, MYAPPS)\n",
    "os.environ.setdefault(\"PYTHONPATH\", \"{0}\".format(MYAPPS))\n",
    "os.environ.setdefault(\"DJANGO_SETTINGS_MODULE\", \"knoxcity.settings\")"
   ]
  },
  {
   "cell_type": "code",
   "execution_count": 3,
   "metadata": {
    "collapsed": true
   },
   "outputs": [],
   "source": [
    "import pickle\n",
    "with open('councilminutes/finaldecisions.pickle', 'rb') as fin:\n",
    "    finaldecisions = pickle.load(fin)"
   ]
  },
  {
   "cell_type": "code",
   "execution_count": 7,
   "metadata": {},
   "outputs": [
    {
     "name": "stdout",
     "output_type": "stream",
     "text": [
      "57\n"
     ]
    }
   ],
   "source": [
    "from citycouncil.models import Decision\n",
    "Decision.objects.all().delete()\n",
    "fails = 0\n",
    "for d in finaldecisions:\n",
    "    d['date'] = d['date'].split(\" \")[0]\n",
    "    try:\n",
    "        Decision.objects.create(**d)\n",
    "    except:\n",
    "        fails +=1\n",
    "print fails"
   ]
  }
 ],
 "metadata": {
  "kernelspec": {
   "display_name": "Django Shell-Plus",
   "language": "python",
   "name": "django_extensions"
  },
  "language_info": {
   "codemirror_mode": {
    "name": "ipython",
    "version": 2
   },
   "file_extension": ".py",
   "mimetype": "text/x-python",
   "name": "python",
   "nbconvert_exporter": "python",
   "pygments_lexer": "ipython2",
   "version": "2.7.11"
  }
 },
 "nbformat": 4,
 "nbformat_minor": 2
}
